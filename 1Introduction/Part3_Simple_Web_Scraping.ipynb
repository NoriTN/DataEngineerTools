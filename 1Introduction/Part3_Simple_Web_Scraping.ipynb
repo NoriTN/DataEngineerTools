{
 "cells": [
  {
   "cell_type": "markdown",
   "metadata": {},
   "source": [
    "Avant de commencer, parcourer le fichier README.rst"
   ]
  },
  {
   "cell_type": "markdown",
   "metadata": {},
   "source": [
    "# Requête HTTP "
   ]
  },
  {
   "cell_type": "code",
   "execution_count": 2,
   "metadata": {},
   "outputs": [],
   "source": [
    "import requests"
   ]
  },
  {
   "cell_type": "code",
   "execution_count": 78,
   "metadata": {},
   "outputs": [
    {
     "data": {
      "text/plain": [
       "200"
      ]
     },
     "execution_count": 78,
     "metadata": {},
     "output_type": "execute_result"
    }
   ],
   "source": [
    "url = \"https://www.ebay.fr/\"\n",
    "response = requests.get(url)\n",
    "response.status_code"
   ]
  },
  {
   "cell_type": "markdown",
   "metadata": {},
   "source": [
    "Un requête HTTP est une requête basé sur le protocole TCP, elle fait partie de la couche application de la couche OSI. Elle permet d'accéder aux données mise à disposition sur une adresse IP (ou url résolue par un DNS) et un port. \n",
    "\n",
    "Les deux ports les plus utilisé dans le web sont le 80 pour les sites en HTTP et le 443 pour les sites en HTTPS. HTTPS est une variable du protocole HTTP basé sur le protocole TLS.\n",
    "\n",
    "Il existe de nombreux types de requêtes selon la convention `REST`: \n",
    "- GET\n",
    "- POST\n",
    "- PUT \n",
    "- DELETE\n",
    "- UPDATE.\n",
    "\n",
    "Dans notre cas nous allons utiliser la plupart du temps des GET et potentiellement des POST. \n",
    "- Le GET permet comme sont nom l'indique de récupérer des informations en fonction de certain paramètres. \n",
    "- Le POST nécéssite un envoie de données pour récupérer des données. Le body du post est, la plupart du temps, envoyé sous la forme d'un objet JSON.\n",
    "\n",
    "Ces requêtes encapsulent un certain nombre de paramètres qui permettent soient d'identifier une provenance et un utilisateur ou de réaliser différentes actions."
   ]
  },
  {
   "cell_type": "markdown",
   "metadata": {},
   "source": [
    "Il existe deux méthodes pour récupérer le contenu de la page :\n",
    "\n",
    "- `response.text` qui permet de retourner le texte sous la forme d'une chaine de charactères.\n",
    "- `response.content` qui permet de récupérer le contenu de la page sous la forme de bytes"
   ]
  },
  {
   "cell_type": "code",
   "execution_count": 7,
   "metadata": {},
   "outputs": [
    {
     "data": {
      "text/plain": [
       "bytes"
      ]
     },
     "execution_count": 7,
     "metadata": {},
     "output_type": "execute_result"
    }
   ],
   "source": [
    "type(response.content)"
   ]
  },
  {
   "cell_type": "code",
   "execution_count": 8,
   "metadata": {},
   "outputs": [
    {
     "data": {
      "text/plain": [
       "str"
      ]
     },
     "execution_count": 8,
     "metadata": {},
     "output_type": "execute_result"
    }
   ],
   "source": [
    "type(response.text)"
   ]
  },
  {
   "cell_type": "code",
   "execution_count": 9,
   "metadata": {},
   "outputs": [
    {
     "data": {
      "text/plain": [
       "'\\n\\r\\n\\n\\r\\n\\n\\n\\r\\n\\r\\n<!DOCTYPE html><html lang=\"fr-FR\" class=\"no-js\" data-theme-lang=\"fr\"><head> <link rel=\"icon\" sizes=\"57x57\" href=\"https://www.esgi.fr/sites_wdZd848K9w9u/themes/esgi-2019/assets/media/favicon/favicon.ico\"><link rel=\"apple-touch-icon\" sizes=\"180x180\" href=\"data:image/png;base64,iVBORw0KGgoAAAANSUhEUgAAALQAAAC0CAIAAACyr5FlAAAABGdBTUEAALGPC/xhBQAAACBjSFJNAAB6JgAAgIQAAPoAAACA6AAAdTAAAOpgAAA6mAAAF3CculE8AAAABmJLR0QA/wD/AP+gvaeTAAAAB3RJTUUH4wcXCwUQT397egAAJbpJREFUeNrtnXlgFEXa/6uP6bmPTGZy3yEhAQIBAoQjcgiigICIiyCusC66sp4Luuvu731F0RW88ABRl0UR9cUgalQEFBAIZyAXBEgICbknmUky99lHvX+0G2MynXsSfH/1+Svprumq6v52VT1PPVWNQQgBAuEPfKgLgLh5QeJACILEgRAEiQMhCBIHQhAkDoQgSBwIQZA4EIIgcSAEQeJACILEgRAEiQMhCBIHQhAkDoQgSBwIQZA4EIIgcSAEQeJACILEgRAEiQMhCBIHQhAkDoQgSBwIQZA4EIIgcSAEQeJACILEgRAEiQMhCBIHQhAkDoQgSBwIQZA4EIIgcSAEQeJACILEgRAEiQMhCBIHQhAkDoQgSBwIQZA4EIIgcSAEQeJACILEgRAEiQMhCBIHQhAkDoQgSBy/PWiWM7t9HoYNdEbkUNcU0QuMTs83V+sPljdUtjr+MWPU3SOjA5odEsdvhtwq499/LD5T28xyEABg8fgCnSMSx2+DnyqbHvzq3A2zYzAzRWOO3wA1FufT'"
      ]
     },
     "execution_count": 9,
     "metadata": {},
     "output_type": "execute_result"
    }
   ],
   "source": [
    "response.text[0:1000]"
   ]
  },
  {
   "cell_type": "markdown",
   "metadata": {},
   "source": [
    "Pour récupérer les 1000 premiers charactères de la page :"
   ]
  },
  {
   "cell_type": "markdown",
   "metadata": {},
   "source": [
    "Pour récupérer les headers HTTP de la réponse :"
   ]
  },
  {
   "cell_type": "code",
   "execution_count": 10,
   "metadata": {},
   "outputs": [
    {
     "data": {
      "text/plain": [
       "{'Server': 'nginx', 'Date': 'Wed, 24 Mar 2021 07:23:13 GMT', 'Content-Type': 'text/html; charset=UTF-8', 'Transfer-Encoding': 'chunked', 'Connection': 'keep-alive', 'Vary': 'Accept-Encoding', 'Last-Modified': 'Wed, 24 Mar 2021 06:44:32 GMT', 'Content-Encoding': 'gzip'}"
      ]
     },
     "execution_count": 10,
     "metadata": {},
     "output_type": "execute_result"
    }
   ],
   "source": [
    "response.headers"
   ]
  },
  {
   "cell_type": "markdown",
   "metadata": {},
   "source": [
    "On peut modifier les paramêtres de la requête et/ou ses headers. On peut par exemple ajouter un UserAgent et un timeout de 10 secondes:"
   ]
  },
  {
   "cell_type": "code",
   "execution_count": 42,
   "metadata": {},
   "outputs": [
    {
     "data": {
      "text/plain": [
       "b'\\n\\r\\n\\n\\r\\n\\n\\n\\r\\n\\r\\n<!DOCTYPE html><html lang=\"fr-FR\" class=\"no-js\" data-theme-lang=\"fr\"><head> <link rel=\"icon\" sizes=\"57x57\" href=\"https://www.esgi.fr/sites_wdZd848K9w9u/themes/esgi-2019/assets/media/favicon/favicon.ico\"><link rel=\"apple-touch-icon\" sizes=\"180x180\" href=\"data:image/png;base64,iVBORw0KGgoAAAANSUhEUgAAALQAAAC0CAIAAACyr5FlAAAABGdBTUEAALGPC/xhBQAAACBjSFJNAAB6JgAAgIQAAPoAAACA6AAAdTAAAOpgAAA6mAAAF3CculE8AAAABmJLR0QA/wD/AP+gvaeTAAAAB3RJTUUH4wcXCwUQT397egAAJbpJREFUeNrtnXlgFEXa/6uP6bmPTGZy3yEhAQIBAoQjcgiigICIiyCusC66sp4Luuvu731F0RW88ABRl0UR9cUgalQEFBAIZyAXBEgICbknmUky99lHvX+0G2MynXsSfH/1+Svprumq6v52VT1PPVWNQQgBAuEPfKgLgLh5QeJACILEgRAEiQMhCBIHQhAkDoQgSBwIQZA4EIIgcSAEQeJACILEgRAEiQMhCBIHQhAkDoQgSBwIQZA4EIIgcSAEQeJACILEgRAEiQMhCBIHQhAkDoQgSBwIQZA4EIIgcSAEQeJACILEgRAEiQMhCBIHQhAkDoQgSBwIQZA4EIIgcSAEQeJACILEgRAEiQMhCBIHQhAkDoQgSBwIQZA4EIIgcSAEQeJACILEgRAEiQMhCBIHQhAkDoQgSBy/PWiWM7t9HoYNdEbkUNcU0QuMTs83V+sPljdUtjr+MWPU3SOjA5odEsdvhtwq499/LD5T28xyEABg8fgCnSMSx2+DnyqbHvzq3A2zYzAzRWOO3wA1FufT'"
      ]
     },
     "execution_count": 42,
     "metadata": {},
     "output_type": "execute_result"
    }
   ],
   "source": [
    "headers = {'User-Agent': 'Mozilla/5.0 (Macintosh; Intel Mac OS X 10_10_1) AppleWebKit/537.36 (KHTML, like Gecko) Chrome/39.0.2171.95 Safari/537.36'}\n",
    "response = requests.get(url, headers=headers, timeout = 10)\n",
    "response.content[0:1000]"
   ]
  },
  {
   "cell_type": "markdown",
   "metadata": {},
   "source": [
    "## Exercice"
   ]
  },
  {
   "cell_type": "markdown",
   "metadata": {},
   "source": [
    "## Exercice 1\n",
    "\n",
    "- Créer une classe Python permettant de faire des requêtes HTTP.\n",
    "- Cette classe doit utiliser toujours le même UserAgent.\n",
    "- Le TimeOut sera spécifié à chaque appelle avec une valeur par défaut.\n",
    "- Un mécanisme de retry sera mis en place de façon recursive.\n",
    "\n",
    "\n",
    "\n",
    "\n",
    "\n",
    "\n",
    "## Exercice 2\n",
    "\n",
    "- Faire une fonction permettant de supprimer tous les espaces supperflus d'une string\n",
    "- Faire une fonction qui prend une string html et renvois une string intelligible (enlever les caractères spéciaux,\n",
    "- Récupérer le domaine en fonction d'un url"
   ]
  },
  {
   "cell_type": "code",
   "execution_count": 49,
   "metadata": {},
   "outputs": [
    {
     "name": "stdout",
     "output_type": "stream",
     "text": [
      "TimeOut =  100\n"
     ]
    },
    {
     "data": {
      "text/plain": [
       "b'\\n\\r\\n\\n\\r\\n\\n\\n\\r\\n\\r\\n<!DOCTYPE html><html lang=\"fr-FR\" class=\"no-js\" data-theme-lang=\"fr\"><head> <link rel=\"i'"
      ]
     },
     "execution_count": 49,
     "metadata": {},
     "output_type": "execute_result"
    }
   ],
   "source": [
    "class requestshttp :\n",
    "    UserAgent = 'Mozilla/5.0 (Macintosh; Intel Mac OS X 10_10_1) AppleWebKit/537.36 (KHTML, like Gecko) Chrome/39.0.2171.95 Safari/537.36'\n",
    "    TimeOut = 100\n",
    "    print(\"TimeOut = \", TimeOut)\n",
    "        \n",
    "request1 = requestshttp()\n",
    "request1.url = url\n",
    "runnablerequest = requests.get(request1.url, timeout = request1.TimeOut)\n",
    "runnablerequest.content[0:100]\n"
   ]
  },
  {
   "cell_type": "code",
   "execution_count": 74,
   "metadata": {},
   "outputs": [
    {
     "name": "stdout",
     "output_type": "stream",
     "text": [
      "   ezoinoeriqnveqiqp    \n",
      "ezoinoeriqnveqiqp\n"
     ]
    }
   ],
   "source": [
    "def del_space(phrase1):\n",
    "    phrase1 = phrase1.strip()\n",
    "    phrase1 = phrase1.replace(\"?\",\"\")\n",
    "    phrase1 = phrase1.replace(\"=\",\"\")\n",
    "    phrase1 = phrase1.replace(\"&\",\"\")\n",
    "    phrase1 = phrase1.replace(\"#\",\"\")\n",
    "    phrase1 = phrase1.replace(\"%\",\"\")\n",
    "    phrase1 = phrase1.replace(\":\",\"\")  \n",
    "    return phrase1"
   ]
  },
  {
   "cell_type": "markdown",
   "metadata": {},
   "source": [
    "# Exploitation du HTML  "
   ]
  },
  {
   "cell_type": "markdown",
   "metadata": {},
   "source": [
    "Ici, il faut récupérer le code HTML d'un site web à partir d'une requête. Lorsque vous avez récupéré le texte d'un site il faut le parser. Pour cela, on utilise BeautifulSoup qui permet de transformer la structure HTML en objet Python. Cela permet de récupérer efficacement les données qui nous intéresse.\n",
    "\n",
    "Pour les webmasters, le blocage le plus souvent mis en place et un blocage sur le User-Agent. Le User-Agent est un paramètre intégré dans la requête HTTP réalisé par le Navigateur pour envoyer au front des informations basiques :\n",
    "\n",
    "- la version du Navigateur,\n",
    "- la version de l'OS\n",
    "- Le type de gestionnaire graphique (Gecko)\n",
    "- le type de device utilisé"
   ]
  },
  {
   "cell_type": "markdown",
   "metadata": {},
   "source": [
    "Exemple de User Agent :  \n",
    "\n",
    "`Mozilla/5.0 (Windows NT 6.1; Win64; x64; rv:47.0) Gecko/20100101 Firefox/47.0`"
   ]
  },
  {
   "cell_type": "markdown",
   "metadata": {},
   "source": [
    "Commençons à utiliser `BeautifulSoup`, pour l'installer : "
   ]
  },
  {
   "cell_type": "code",
   "execution_count": 68,
   "metadata": {},
   "outputs": [
    {
     "name": "stdout",
     "output_type": "stream",
     "text": [
      "Collecting bs4\n",
      "  Downloading bs4-0.0.1.tar.gz (1.1 kB)\n",
      "Requirement already satisfied: beautifulsoup4 in /root/.local/share/virtualenvs/code-AFz48Hjb/lib/python3.8/site-packages (from bs4) (4.9.3)\n",
      "Requirement already satisfied: soupsieve>1.2 in /root/.local/share/virtualenvs/code-AFz48Hjb/lib/python3.8/site-packages (from beautifulsoup4->bs4) (2.0.1)\n",
      "Building wheels for collected packages: bs4\n",
      "  Building wheel for bs4 (setup.py) ... \u001b[?25ldone\n",
      "\u001b[?25h  Created wheel for bs4: filename=bs4-0.0.1-py3-none-any.whl size=1273 sha256=48e36df94846bd369eba37c9507c5afe495c58ee15f320e7b0ec4672af576e49\n",
      "  Stored in directory: /root/.cache/pip/wheels/75/78/21/68b124549c9bdc94f822c02fb9aa3578a669843f9767776bca\n",
      "Successfully built bs4\n",
      "Installing collected packages: bs4\n",
      "Successfully installed bs4-0.0.1\n",
      "Requirement already satisfied: lxml in /root/.local/share/virtualenvs/code-AFz48Hjb/lib/python3.8/site-packages (4.6.3)\n"
     ]
    }
   ],
   "source": [
    "!pip install bs4\n",
    "!pip install  lxml"
   ]
  },
  {
   "cell_type": "code",
   "execution_count": 70,
   "metadata": {},
   "outputs": [],
   "source": [
    "import requests\n",
    "from bs4 import BeautifulSoup"
   ]
  },
  {
   "cell_type": "markdown",
   "metadata": {},
   "source": [
    "Pour transformer une requête (requests) en objet BeautifulSoup :"
   ]
  },
  {
   "cell_type": "code",
   "execution_count": 79,
   "metadata": {},
   "outputs": [],
   "source": [
    "response = requests.get(url)\n",
    "soup = BeautifulSoup(response.text)"
   ]
  },
  {
   "cell_type": "markdown",
   "metadata": {},
   "source": [
    "Il se peut qu'un message d'erreur arrive à ce point là si vous n'avez pas la librarie `lxml` installée, pour se faire vous avez juste à lancer la commande suivante : "
   ]
  },
  {
   "cell_type": "code",
   "execution_count": 72,
   "metadata": {},
   "outputs": [
    {
     "name": "stdout",
     "output_type": "stream",
     "text": [
      "Requirement already satisfied: lxml in /root/.local/share/virtualenvs/code-AFz48Hjb/lib/python3.8/site-packages (4.6.3)\r\n"
     ]
    }
   ],
   "source": [
    "!pip install lxml"
   ]
  },
  {
   "cell_type": "markdown",
   "metadata": {},
   "source": [
    "Pour trouver tous les liens d'une page on récupère la balise `a` qui permet de gérer les liens en HTML  :"
   ]
  },
  {
   "cell_type": "code",
   "execution_count": 80,
   "metadata": {},
   "outputs": [
    {
     "data": {
      "text/plain": [
       "[<a class=\"gh-acc-a\" href=\"#mainContent\" id=\"gh-hdn-stm\">Accéder au contenu principal</a>,\n",
       " <a _sp=\"m570.l2586\" href=\"https://www.ebay.fr\" id=\"gh-la\"><img alt=\"Logo eBay\" height=\"200\" id=\"gh-logo\" src=\"https://ir.ebaystatic.com/rs/v/fxxj3ttftm5ltcqnto1o4baovyl.png\" style=\"clip:rect(47px, 118px, 95px, 0px); position:absolute; top:-47px;left:0\" width=\"250\"/></a>,\n",
       " <a _sp=\"m570.l2614\" aria-label=\"Advanced Search\" href=\"https://www.ebay.fr/sch/ebayadvsearch\" id=\"gh-as-a\" title=\"Recherche approfondie\">Recherche approfondie</a>,\n",
       " <a href=\"https://signin.ebay.fr/ws/eBayISAPI.dll?SignIn&amp;_trksid=m570.l3348\">Connectez-vous</a>,\n",
       " <a _sp=\"m570.l50643\" data-sp=\"m570.l50643\" href=\"https://www.ebay.fr/ebayextra\"> eBay Extra</a>,\n",
       " <a _sp=\"m570.l3188\" class=\"gh-p\" data-sp=\"m570.l3188\" href=\"https://www.ebay.fr/deals\"> Bons Plans</a>,\n",
       " <a _sp=\"m570.l1545\" data-sp=\"m570.l1545\" href=\"https://ocsnext.ebay.fr/ocs/home\"> Aide</a>,\n",
       " <a _sp=\"m570.l2611\" href=\"https://www.ebay.fr/e/_promotions-et-evenements/bons-plans-tech-2021\" id=\"gh-doodleS\"><img alt=\"Bons Plans\" height=\"30\" id=\"gh-hsi\" src=\"https://ir.ebaystatic.com/cr/v/c1/W11_FS_Tech_Doodle.jpg\" title=\"Bons Plans\" width=\"150\"/></a>,\n",
       " <a _sp=\"m570.l1528\" class=\"gh-p\" data-sp=\"m570.l1528\" href=\"https://www.ebay.fr/sl/sell\"> Vendre</a>,\n",
       " <a _sp=\"m570.l47137\" class=\"gh-eb-li-a gh-rvi-menu\" href=\"https://www.ebay.fr/mye/myebay/watchlist\" title=\"Affaires à suivre\">Affaires à suivre<i class=\"gh-sprRetina gh-eb-arw gh-rvi-chevron\" data-sp=\"m570.l47137\"></i></a>]"
      ]
     },
     "execution_count": 80,
     "metadata": {},
     "output_type": "execute_result"
    }
   ],
   "source": [
    "soup.find_all(\"a\")[0:10]"
   ]
  },
  {
   "cell_type": "markdown",
   "metadata": {},
   "source": [
    "On peut préciser la classe HTML voulue  pour l'ensemble des `a`:\n",
    "\n",
    "```python\n",
    "soup.find_all(class_=\"<CLASS_NAME>\")[0:10]\n",
    "```\n",
    "\n",
    "Ici par exemple: "
   ]
  },
  {
   "cell_type": "code",
   "execution_count": 81,
   "metadata": {
    "scrolled": true
   },
   "outputs": [
    {
     "data": {
      "text/plain": [
       "[]"
      ]
     },
     "execution_count": 81,
     "metadata": {},
     "output_type": "execute_result"
    }
   ],
   "source": [
    "soup.find_all(class_=\"slide\")[0:5]"
   ]
  },
  {
   "cell_type": "markdown",
   "metadata": {},
   "source": [
    "Pour récupérer le text sans les balises HTML :"
   ]
  },
  {
   "cell_type": "code",
   "execution_count": 82,
   "metadata": {},
   "outputs": [
    {
     "data": {
      "text/plain": [
       "\"\\nProduits électroniques, Voitures, Vêtements, Objets de collection, Bons d'achat et autres achats en ligne | eBay Accéder au contenu principalExplorer par catégoriesExplorer par catégoriesSaisissez votre mot-clé de recherche Toutes les catégoriesRecherche approfondieBonjour (Connectez-vous pour enchérir ou pour acheter des objets) eBay Extra Bons Plans Aide VendreAffaires à suivreDévelopper la liste d'Affaires à suivreChargement en cours...Connectez-vous pour afficher vos informations Mon eBayDévelopper Mon\\xa0eBay Récapitulatif Récemment consultés Enchères en cours Affaires à suivre Objets achetés Mes ventes Recherches favorites Vendeurs favoris Messages eBay ExtraNotification  Développer le panierChargement en cours...Un problème est survenu. Pour en savoir plus, affichez le panier.    AccueilFavorisBons PlansDévelopper\\xa0: Bons PlansTop catégoriesBons Plans du MomentBons Plans High-TechBons Plans Maison & JardinBons Plans Auto MotoPlus de Bons PlansHigh-TechDévelopper\\xa0: High-TechTop caté\""
      ]
     },
     "execution_count": 82,
     "metadata": {},
     "output_type": "execute_result"
    }
   ],
   "source": [
    "soup.text[0:1000]"
   ]
  },
  {
   "cell_type": "markdown",
   "metadata": {},
   "source": [
    "## Exercice\n",
    "### Exercice 3\n",
    "\n",
    "Améliorer la classe développé précédemment.\n",
    "\n",
    "- Ajouter une méthode pour récupérer l'objet soup d'un url\n",
    "- Récupérer une liste de User Agent et effectuer une rotation aléatoire sur celui à utiliser\n",
    "- Utiliser cette classe pour parser une page HTML et récupérer : le titre, tous les H1 (si ils existent), les liens vers les images, les liens sortants vers d'autres sites, et le texte principal.\n",
    "\n",
    "Parsing d'un sitemaps pour récupérer une listes de liens avec les informations disponibles. -> Stocker dans un dictionnaire et dans un fichier JSON local."
   ]
  },
  {
   "cell_type": "markdown",
   "metadata": {},
   "source": [
    "# Exploitation des appels d'API\n"
   ]
  },
  {
   "cell_type": "markdown",
   "metadata": {},
   "source": [
    "\n",
    "Losque le front du site récupère des données sur une API géré par le back, un appel d'API est réalisé. Cet appel est recensé dans les appels réseaux. Il est alors possible de re-jouer cet appel pour récupérer à nouveau les données. Il est très facile de récupérer ces appels dans l'onglet Network de la console développeur de Chrome ou FireFox. La console vous permet de copier le code CURL pour effectuée et vous pouvez ensuite la transformer en code Python depuis le site https://curl.trillworks.com/.\n",
    "\n",
    "Souvent les APIs sont bloquées avec certain paramètres. L'API verifie que dans les headers de la requêtes HTTP ces paramètres sont présents : * un token généré à la volée avec des protocole OAuth2 (ou moins développés). * un referer provenant du site web (la source de la requête), très facile à falsifier.\n",
    "\n"
   ]
  },
  {
   "cell_type": "markdown",
   "metadata": {},
   "source": [
    "## Exercice \n",
    "### Exercice 4\n",
    "\n",
    "- Utiliser les informations développées plus haut pour récupérer les premiers résultats d'une recherche d'une requête\n",
    "sur Qwant. \n",
    "\n",
    "Tips : \n",
    "\n",
    "- Aller sur https://www.qwant.com/\n",
    "- Ouvrir les outils de développements de Chrome ou Firefox\n",
    "- Onglet Network\n",
    "- Fouiller dans les requêtes"
   ]
  },
  {
   "cell_type": "code",
   "execution_count": 87,
   "metadata": {},
   "outputs": [],
   "source": [
    "def get_qwant_results(query):\n",
    "    url = \"https://api.qwant.com/api/search/web?count=5&offset=0&q={}&t=web&uiv=1\"\n",
    "    response = requests.get(url.format(query), headers = headers)\n",
    "    results = response.json()\n",
    "    return results['data']['result']['items'][:5]"
   ]
  },
  {
   "cell_type": "code",
   "execution_count": 88,
   "metadata": {},
   "outputs": [
    {
     "data": {
      "text/plain": [
       "[{'title': 'École Informatique Alternance - ESGI',\n",
       "  'favicon': '//s.qwant.com/fav/e/s/www_esgi_fr.ico',\n",
       "  'url': 'https://www.esgi.fr/',\n",
       "  'source': 'https://www.esgi.fr/',\n",
       "  'desc': \"ESGI, Grande école d'informatique en alternance à Paris propose 9 filières avec diplômes reconnus par l'État en Cycle Bachelor et en Cycle Mastère.\",\n",
       "  '_id': 'a2a9a6c39b0188dad6d7ccaca9881af0',\n",
       "  'score': 0,\n",
       "  'position': 1},\n",
       " {'title': 'ESGI – European Study Group with Industry',\n",
       "  'favicon': '//s.qwant.com/fav/i/p/esgi_ipleiria_pt.ico',\n",
       "  'url': 'http://esgi.ipleiria.pt/',\n",
       "  'source': 'http://esgi.ipleiria.pt/',\n",
       "  'desc': 'ESGI – European Study Group with Industry in Industry . For a list of previous ESGI in Portugal please visit the …',\n",
       "  '_id': 'ab5617941f08eaeaf601e79be16c68c7',\n",
       "  'score': 0,\n",
       "  'position': 2},\n",
       " {'title': 'ESGI (@ESGI) | Twitter',\n",
       "  'favicon': '//s.qwant.com/fav/t/w/twitter_com.ico',\n",
       "  'url': 'https://twitter.com/esgi?lang=fr',\n",
       "  'source': 'https://twitter.com/esgi',\n",
       "  'desc': \"École privée d'enseignement supérieur en informatique située à Paris de Bac à Bac+5. https://t.co/7txpwozvAz. rue du Fbg St Antoine-Paris 12\",\n",
       "  '_id': '56be3e373679587fac0458a474ca8038',\n",
       "  'score': 0,\n",
       "  'position': 3},\n",
       " {'title': 'ESGI - One-on-one Assessments Made Easy',\n",
       "  'favicon': '//s.qwant.com/fav/e/s/www_esgisoftware_com.ico',\n",
       "  'url': 'https://www.esgisoftware.com/',\n",
       "  'source': 'https://www.esgisoftware.com/',\n",
       "  'desc': 'A simple and secure assessment platform that provides a frictionless process to conduct one-on-one assessments (highly used at pre-K, TK, kindergarten, and first grade levels). Use the pre-loaded test',\n",
       "  '_id': '50f9fa86c00ca5868617093615e3b4b8',\n",
       "  'score': 0,\n",
       "  'position': 4},\n",
       " {'title': 'Admissions - ESGI - École Informatique',\n",
       "  'favicon': '//s.qwant.com/fav/e/s/www_esgi_fr.ico',\n",
       "  'url': 'https://www.esgi.fr/admissions-ecole-informatique.html',\n",
       "  'source': 'https://www.esgi.fr/admissions-ecole-informatique.…',\n",
       "  'desc': \"Retrouvez toutes les informations sur la procédure d'admission au sein de l'ESGI, la grande école informatique en alternance.\",\n",
       "  '_id': 'b054838d439c87272e22a9c9bb9ed6ae',\n",
       "  'score': 0,\n",
       "  'position': 5}]"
      ]
     },
     "execution_count": 88,
     "metadata": {},
     "output_type": "execute_result"
    }
   ],
   "source": [
    "get_qwant_results('esgi')"
   ]
  },
  {
   "cell_type": "markdown",
   "metadata": {},
   "source": [
    "# Exercice Final  "
   ]
  },
  {
   "cell_type": "markdown",
   "metadata": {},
   "source": [
    "Exercice Final\n",
    "Utilisez tout ce que vous avez appris pour récupérer des articles de News avec une catégorie. Il est souvent intéressant de partir des flux RSS pour commencer :\n",
    "\n",
    "Les données doivent comprendre :\n",
    "- Le texte important propre\n",
    "- L'url\n",
    "- Le domaine\n",
    "- la catégorie\n",
    "- Le titre de l'article\n",
    "- Le titre de la page\n",
    "- (Facultatif) : les images\n",
    "\n",
    "Tips : \n",
    "\n",
    "- Taper le nom de votre média favoris + RSS (par exemple : https://www.lemonde.fr/rss/)\n",
    "- Aller dans le DOM de la page \n",
    "- Trouver les catégories et les liens vers les articles"
   ]
  },
  {
   "cell_type": "code",
   "execution_count": null,
   "metadata": {},
   "outputs": [],
   "source": []
  }
 ],
 "metadata": {
  "kernelspec": {
   "display_name": "Python 3",
   "language": "python",
   "name": "python3"
  },
  "language_info": {
   "codemirror_mode": {
    "name": "ipython",
    "version": 3
   },
   "file_extension": ".py",
   "mimetype": "text/x-python",
   "name": "python",
   "nbconvert_exporter": "python",
   "pygments_lexer": "ipython3",
   "version": "3.8.8"
  }
 },
 "nbformat": 4,
 "nbformat_minor": 2
}
